{
 "cells": [
  {
   "cell_type": "markdown",
   "id": "fa716f81-5b04-42ed-80e0-191db62357d0",
   "metadata": {},
   "source": [
    "# What does fast/good code mean?"
   ]
  },
  {
   "cell_type": "code",
   "execution_count": 1,
   "id": "bb27bb7b-973c-4ea6-9edd-101c2182b8e4",
   "metadata": {},
   "outputs": [],
   "source": [
    "import numpy as np\n",
    "import time"
   ]
  },
  {
   "cell_type": "markdown",
   "id": "b009dd85-47d3-4085-b700-d22031e4d77a",
   "metadata": {},
   "source": [
    "#### Everything you do takes time"
   ]
  },
  {
   "cell_type": "code",
   "execution_count": 2,
   "id": "6bbd44f9-fefc-4706-9449-607db5ae1edb",
   "metadata": {},
   "outputs": [
    {
     "name": "stdout",
     "output_type": "stream",
     "text": [
      "hi\n",
      "0.0002646446228027344\n"
     ]
    }
   ],
   "source": [
    "t0 = time.time()\n",
    "print('hi')\n",
    "print(time.time()-t0)"
   ]
  },
  {
   "cell_type": "code",
   "execution_count": 3,
   "id": "742b4a2b-5e80-4745-b3e1-e103cd3e6561",
   "metadata": {},
   "outputs": [
    {
     "name": "stdout",
     "output_type": "stream",
     "text": [
      "0.00012946128845214844\n"
     ]
    }
   ],
   "source": [
    "t0 = time.time()\n",
    "x=1+1\n",
    "print(time.time()-t0)"
   ]
  },
  {
   "cell_type": "markdown",
   "id": "f7b05405-79aa-4ea9-9241-d0c5481182d5",
   "metadata": {},
   "source": [
    "#### The more times you do something, the longer it takes"
   ]
  },
  {
   "cell_type": "code",
   "execution_count": 8,
   "id": "6590bc55-a481-45e2-b9cc-74509b423317",
   "metadata": {},
   "outputs": [
    {
     "name": "stdout",
     "output_type": "stream",
     "text": [
      "0.061182260513305664\n"
     ]
    }
   ],
   "source": [
    "t0 = time.time()\n",
    "for i in range(1000): # change number of iterations\n",
    "    x=1+1\n",
    "print(time.time()-t0)"
   ]
  },
  {
   "cell_type": "markdown",
   "id": "5fbed836-81b0-409f-857f-0b842f8eac97",
   "metadata": {},
   "source": [
    "#### Timing different segments of code"
   ]
  },
  {
   "cell_type": "code",
   "execution_count": 11,
   "id": "510ad8e8-ae17-4b64-90c8-d541cc156421",
   "metadata": {},
   "outputs": [
    {
     "name": "stdout",
     "output_type": "stream",
     "text": [
      "0.42037487030029297\n"
     ]
    }
   ],
   "source": [
    "t0 = time.time()\n",
    "\n",
    "n = 1000\n",
    "x = np.zeros(n)\n",
    "y = np.random.normal(0,1,n)\n",
    "\n",
    "for i in range(n):\n",
    "    x[i]=y[i]**2\n",
    "print(time.time()-t0)"
   ]
  },
  {
   "cell_type": "code",
   "execution_count": null,
   "id": "066836b8-dfc7-4bbf-bde7-40803638ffee",
   "metadata": {},
   "outputs": [],
   "source": [
    "# vectorising this (for loops are expensive)"
   ]
  },
  {
   "cell_type": "code",
   "execution_count": null,
   "id": "bab1029d-e3fe-45b5-beba-283a55260f45",
   "metadata": {},
   "outputs": [],
   "source": [
    "# vectorisation still depends on size"
   ]
  },
  {
   "cell_type": "markdown",
   "id": "8389be40-f4fd-48ac-bf1f-32c3680f54c9",
   "metadata": {},
   "source": [
    "#### An example of thinking about when code is run"
   ]
  },
  {
   "cell_type": "code",
   "execution_count": null,
   "id": "7e88742f-06cd-417b-9275-69a26e824069",
   "metadata": {},
   "outputs": [],
   "source": [
    "for i in range(12):\n",
    "    for j in range(100):\n",
    "\n",
    "        # do something that takes a few seconds\n",
    "\n",
    "\n",
    "        # turns out part of that few seconds was loading data that was the same for each month\n",
    "        # hence, switch ordering"
   ]
  }
 ],
 "metadata": {
  "kernelspec": {
   "display_name": "Python [conda env:analysis3-unstable]",
   "language": "python",
   "name": "conda-env-analysis3-unstable-py"
  },
  "language_info": {
   "codemirror_mode": {
    "name": "ipython",
    "version": 3
   },
   "file_extension": ".py",
   "mimetype": "text/x-python",
   "name": "python",
   "nbconvert_exporter": "python",
   "pygments_lexer": "ipython3",
   "version": "3.10.16"
  }
 },
 "nbformat": 4,
 "nbformat_minor": 5
}
