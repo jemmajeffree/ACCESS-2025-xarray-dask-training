{
 "cells": [
  {
   "cell_type": "markdown",
   "id": "fa716f81-5b04-42ed-80e0-191db62357d0",
   "metadata": {},
   "source": [
    "# What does fast/good code mean?"
   ]
  },
  {
   "cell_type": "code",
   "execution_count": 1,
   "id": "bb27bb7b-973c-4ea6-9edd-101c2182b8e4",
   "metadata": {},
   "outputs": [],
   "source": [
    "import numpy as np\n",
    "import time"
   ]
  },
  {
   "cell_type": "markdown",
   "id": "b009dd85-47d3-4085-b700-d22031e4d77a",
   "metadata": {},
   "source": [
    "#### Everything you do takes time"
   ]
  },
  {
   "cell_type": "code",
   "execution_count": 2,
   "id": "6bbd44f9-fefc-4706-9449-607db5ae1edb",
   "metadata": {},
   "outputs": [
    {
     "name": "stdout",
     "output_type": "stream",
     "text": [
      "hi\n",
      "0.0002646446228027344\n"
     ]
    }
   ],
   "source": [
    "t0 = time.time()\n",
    "print('hi')\n",
    "print(time.time()-t0)"
   ]
  },
  {
   "cell_type": "code",
   "execution_count": 3,
   "id": "742b4a2b-5e80-4745-b3e1-e103cd3e6561",
   "metadata": {},
   "outputs": [
    {
     "name": "stdout",
     "output_type": "stream",
     "text": [
      "0.00012946128845214844\n"
     ]
    }
   ],
   "source": [
    "t0 = time.time()\n",
    "x=1+1\n",
    "print(time.time()-t0)"
   ]
  },
  {
   "cell_type": "markdown",
   "id": "f7b05405-79aa-4ea9-9241-d0c5481182d5",
   "metadata": {},
   "source": [
    "#### The more times you do something, the longer it takes"
   ]
  },
  {
   "cell_type": "code",
   "execution_count": 8,
   "id": "6590bc55-a481-45e2-b9cc-74509b423317",
   "metadata": {},
   "outputs": [
    {
     "name": "stdout",
     "output_type": "stream",
     "text": [
      "0.061182260513305664\n"
     ]
    }
   ],
   "source": [
    "t0 = time.time()\n",
    "for i in range(1000): # change number of iterations\n",
    "    x=1+1\n",
    "print(time.time()-t0)"
   ]
  },
  {
   "cell_type": "markdown",
   "id": "5fbed836-81b0-409f-857f-0b842f8eac97",
   "metadata": {},
   "source": [
    "#### Timing different segments of code"
   ]
  },
  {
   "cell_type": "code",
   "execution_count": 11,
   "id": "510ad8e8-ae17-4b64-90c8-d541cc156421",
   "metadata": {},
   "outputs": [
    {
     "name": "stdout",
     "output_type": "stream",
     "text": [
      "0.42037487030029297\n"
     ]
    }
   ],
   "source": [
    "t0 = time.time()\n",
    "\n",
    "n = 1000\n",
    "x = np.zeros(n)\n",
    "y = np.random.normal(0,1,n)\n",
    "\n",
    "for i in range(n):\n",
    "    x[i]=y[i]**2\n",
    "print(time.time()-t0)"
   ]
  },
  {
   "cell_type": "code",
   "execution_count": null,
   "id": "066836b8-dfc7-4bbf-bde7-40803638ffee",
   "metadata": {},
   "outputs": [],
   "source": [
    "# vectorising this (for loops are expensive)"
   ]
  },
  {
   "cell_type": "code",
   "execution_count": null,
   "id": "bab1029d-e3fe-45b5-beba-283a55260f45",
   "metadata": {},
   "outputs": [],
   "source": [
    "# vectorisation still depends on size"
   ]
  },
  {
   "cell_type": "markdown",
   "id": "8389be40-f4fd-48ac-bf1f-32c3680f54c9",
   "metadata": {},
   "source": [
    "#### An example of thinking about when code is run"
   ]
  },
  {
   "cell_type": "code",
   "execution_count": null,
   "id": "7e88742f-06cd-417b-9275-69a26e824069",
   "metadata": {},
   "outputs": [],
   "source": [
    "for i in range(12):\n",
    "    for j in range(100):\n",
    "\n",
    "        # do something that takes a few seconds\n",
    "\n",
    "\n",
    "        # turns out part of that few seconds was loading data that was the same for each month\n",
    "        # hence, switch ordering"
   ]
  },
  {
   "cell_type": "markdown",
   "id": "18b0a2fb-ee4f-44e1-a1f7-8ca23dbcd274",
   "metadata": {},
   "source": [
    "# Exercises\n",
    "#### 1. Vectorisation warmup\n",
    "* Can you rewrite the following for loop to be vectorised?"
   ]
  },
  {
   "cell_type": "code",
   "execution_count": null,
   "id": "b06e660d-bb50-4638-a1d0-fa4c051bbf49",
   "metadata": {},
   "outputs": [],
   "source": [
    "## If I roll a dice 10000 times, how many times will I roll the same number twice?\n",
    "np.random.seed(1)\n",
    "last_roll = np.random.randint(1,6)\n",
    "count = 0\n",
    "for i in range(10000):\n",
    "    new_roll = np.random.randint(1,6)\n",
    "    if new_roll==last_roll:\n",
    "        count = count + 1\n",
    "    last_roll = new_roll"
   ]
  },
  {
   "cell_type": "markdown",
   "id": "9277a7bd-61fa-4815-b293-ad5ea1af8ae2",
   "metadata": {},
   "source": [
    "#### 2. Checking if a number is prime\n",
    "* How long does this code take to run?\n",
    "* What is taking most of the time?\n",
    "* Where can you cut time out?"
   ]
  },
  {
   "cell_type": "code",
   "execution_count": null,
   "id": "fa1cbdcf-ba14-4620-9257-c14fb4a783f6",
   "metadata": {},
   "outputs": [],
   "source": [
    "## Find out whether x is prime:\n",
    "x = 32495291   # Some big confirmed primes for testing 6552503, 22114667, 74637007\n",
    "x_is_prime = True # Assume true until proven otherwise\n",
    "\n",
    "for i in range(2,x):\n",
    "    if (x/i)%1 == 0:\n",
    "        x_is_prime = False\n",
    "print(x_is_prime)"
   ]
  },
  {
   "cell_type": "markdown",
   "id": "068cc789-636e-4527-899b-02499083509b",
   "metadata": {},
   "source": [
    "#### 3. Extension -- Sieve of Erastothenes\n",
    "With some refactoring, I can the same algorithm to the following to run in under 30 seconds. However, there's lots of intermediate timesavings that can make it still run measurably faster.\n",
    "* What does the code do? Can you explain it to someone around you?\n",
    "* How long does it take to run? (an estimate/extrapolation may be required)\n",
    "* Which part of the code is consuming most of the time?\n",
    "* Can you change the code to reduce the time it takes?\n",
    "* What is the smallest prime number over 10**7?"
   ]
  },
  {
   "cell_type": "code",
   "execution_count": null,
   "id": "c67ff204-fddb-440d-9a5c-9614dc3d221a",
   "metadata": {},
   "outputs": [],
   "source": [
    "primes = np.ones(10**8,dtype=bool)\n",
    "primes[0] = False\n",
    "primes[1] = False\n",
    "\n",
    "for i in range(len(primes)):\n",
    "    if primes[i]: # if i is prime\n",
    "        # Find anything that's a multiple of i and mark it as not prime\n",
    "        for j in range(2,len(primes)): \n",
    "            if i*j<len(primes):\n",
    "                primes[i*j]=False"
   ]
  }
 ],
 "metadata": {
  "kernelspec": {
   "display_name": "Python [conda env:analysis3-unstable]",
   "language": "python",
   "name": "conda-env-analysis3-unstable-py"
  },
  "language_info": {
   "codemirror_mode": {
    "name": "ipython",
    "version": 3
   },
   "file_extension": ".py",
   "mimetype": "text/x-python",
   "name": "python",
   "nbconvert_exporter": "python",
   "pygments_lexer": "ipython3",
   "version": "3.11.13"
  }
 },
 "nbformat": 4,
 "nbformat_minor": 5
}
