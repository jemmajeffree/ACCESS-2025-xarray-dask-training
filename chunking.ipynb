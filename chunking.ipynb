{
 "cells": [
  {
   "cell_type": "markdown",
   "id": "743d66d3-201c-4997-8859-cabbfe2800a2",
   "metadata": {},
   "source": [
    "## Chunking :D\n",
    "## Using more data\n",
    "(Ozone just happens to come in huge files that make it easy to make a point here)"
   ]
  },
  {
   "cell_type": "code",
   "execution_count": null,
   "id": "84b1ffc0-d912-4edb-99a3-f576b439a03b",
   "metadata": {},
   "outputs": [],
   "source": [
    "import numpy as np\n",
    "import xarray as xr\n",
    "import time"
   ]
  },
  {
   "cell_type": "code",
   "execution_count": null,
   "id": "b98640d2-d2d2-4401-9e96-19e7990af0c7",
   "metadata": {
    "scrolled": true
   },
   "outputs": [],
   "source": [
    "from dask.distributed import Client\n",
    "client = Client(threads_per_worker=1,memory_limit=0)\n",
    "client.amm.start()\n",
    "client"
   ]
  },
  {
   "cell_type": "code",
   "execution_count": null,
   "id": "90de06e0-2c7e-482a-98de-eb5cd9aeced9",
   "metadata": {},
   "outputs": [],
   "source": [
    "import intake\n",
    "catalog = intake.cat.access_nri\n",
    "\n",
    "catalog['era5_rt52'].search(variable='o3',\n",
    "                            product='era5-1-monthly-averaged',\n",
    "                           ).to_dask(xarray_open_kwargs={'chunks':{}}).o3"
   ]
  },
  {
   "cell_type": "code",
   "execution_count": null,
   "id": "cbe8706b-91ee-44e2-ba15-900b2a4878c4",
   "metadata": {},
   "outputs": [],
   "source": [
    "ozone = xr.open_dataset('/g/data/rt52/era5/pressure-levels/reanalysis/o3/2000/o3_era5_oper_pl_20000101-20000131.nc',\n",
    "                        # chunks = None, # the default\n",
    "                        chunks={}, # the default for open_mfdataset\n",
    "                        # chunks={'longitude':-1,'time':12}, # should help\n",
    "                        # chunks={'longitude':-1,'time':-1}, # dumb\n",
    "                       )\n",
    "\n"
   ]
  },
  {
   "cell_type": "code",
   "execution_count": null,
   "id": "6731ff56-f626-4d59-936c-f9582f550e27",
   "metadata": {},
   "outputs": [],
   "source": [
    "%time ozone.o3.sel(level=1,latitude=slice(-45,-90)).mean('longitude').load()"
   ]
  },
  {
   "cell_type": "markdown",
   "id": "ea841d93-506a-4c5b-82bd-bc7aad4a80d3",
   "metadata": {},
   "source": [
    "# Exercises\n",
    "\n",
    "## Can you pick good chunk sizes to speed up the calculation of global mean surface temperature?\n",
    "\n",
    "#### 1. ACCESS-CM2 pre-industrial control run (monthly)\n",
    "```python\n",
    "xr.open_mfdataset('/g/data/fs38/publications/CMIP6/CMIP/CSIRO-ARCCSS/ACCESS-CM2/piControl/r1i1p1f1/Amon/tas/gn/latest/*.nc', parallel=True, chunks={}).tas\n",
    "# OR\n",
    "catalog['cmip6_fs38'].search(source_id='ACCESS-ESM1-5',\n",
    "                             experiment_id='piControl',\n",
    "                             variable_id='tas',\n",
    "                             version='latest',\n",
    "                             frequency='mon'\n",
    "                                   ).to_dask(xarray_open_kwargs={'chunks':{}}).tas\n",
    "```\n",
    "\n",
    "#### 2. ACCESS-CM2 pre-industrial control run (daily)\n",
    "```python\n",
    "xr.open_mfdataset('/g/data/fs38/publications/CMIP6/CMIP/CSIRO-ARCCSS/ACCESS-CM2/piControl/r1i1p1f1/day/tas/gn/latest/*.nc', parallel=True, chunks={}).tas\n",
    "# OR\n",
    "catalog['cmip6_fs38'].search(source_id='ACCESS-ESM1-5',\n",
    "                             experiment_id='piControl',\n",
    "                             variable_id='tas',\n",
    "                             version='latest',\n",
    "                             frequency='day'\n",
    "                             ).to_dask(xarray_open_kwargs={'chunks':{}}).tas\n",
    "\n",
    "```\n",
    "\n",
    "#### 3. ERA5 hourly\n",
    "```python\n",
    "xr.open_mfdataset('/g/data/rt52/era5/single-levels/reanalysis/2t/*/*.nc').t2m\n",
    "# OR\n",
    "catalog['era5_rt52'].search(variable='2t',\n",
    "                            product='era5-monthly-averaged'\n",
    "                           ).to_dask(xarray_open_kwargs={'chunks':{}}).t2m\n",
    "```"
   ]
  },
  {
   "cell_type": "code",
   "execution_count": null,
   "id": "b4c4c464-0a20-49db-9b22-9c720e083cdc",
   "metadata": {},
   "outputs": [],
   "source": []
  }
 ],
 "metadata": {
  "kernelspec": {
   "display_name": "Python [conda env:analysis3-25.07] *",
   "language": "python",
   "name": "conda-env-analysis3-25.07-py"
  },
  "language_info": {
   "codemirror_mode": {
    "name": "ipython",
    "version": 3
   },
   "file_extension": ".py",
   "mimetype": "text/x-python",
   "name": "python",
   "nbconvert_exporter": "python",
   "pygments_lexer": "ipython3",
   "version": "3.11.13"
  }
 },
 "nbformat": 4,
 "nbformat_minor": 5
}
