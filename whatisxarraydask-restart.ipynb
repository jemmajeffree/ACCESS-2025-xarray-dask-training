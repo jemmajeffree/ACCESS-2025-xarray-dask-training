{
 "cells": [
  {
   "cell_type": "markdown",
   "id": "35992742-b159-4a9e-b0f9-1c865757f10a",
   "metadata": {},
   "source": [
    "# What are dask and xarray?\n",
    "Designed to be run on 4 cores on gadi. Needs access to cj50"
   ]
  },
  {
   "cell_type": "code",
   "execution_count": null,
   "id": "e21ef9f5-49fc-4ab2-8ff2-4e7df45a7acb",
   "metadata": {},
   "outputs": [],
   "source": [
    "import numpy as np\n",
    "import xarray as xr\n",
    "import matplotlib.pyplot as plt\n",
    "import time"
   ]
  },
  {
   "cell_type": "markdown",
   "id": "71b3d8b9-ec36-43a2-9963-514e8d5a4d38",
   "metadata": {},
   "source": [
    "## xarray labels stuff"
   ]
  },
  {
   "cell_type": "code",
   "execution_count": null,
   "id": "6a207c58-9c68-4608-a07f-772b0ff2c6a2",
   "metadata": {},
   "outputs": [],
   "source": [
    "sst = xr.open_dataset('/g/data/cj50/access-om2/raw-output/access-om2-01/01deg_jra55v140_iaf/output000/ocean/ocean-2d-surface_temp-1-monthly-mean-ym_1958_01.nc').surface_temp\n",
    "sst"
   ]
  },
  {
   "cell_type": "code",
   "execution_count": null,
   "id": "5b8e3cca-949a-4be7-85bb-bc7c018f1b3c",
   "metadata": {},
   "outputs": [],
   "source": [
    "sst.mean('time')"
   ]
  },
  {
   "cell_type": "markdown",
   "id": "e7b11398-0549-45e7-9b6d-a4dbdecf21f3",
   "metadata": {},
   "source": [
    "### xarray is a wrapper for a numpy or dask array"
   ]
  },
  {
   "cell_type": "code",
   "execution_count": null,
   "id": "310ea628-517a-420c-a7b0-50dc65764add",
   "metadata": {},
   "outputs": [],
   "source": [
    "np_array = np.round(np.sin(np.linspace(0,2*np.pi,12)),2)\n",
    "np_array\n"
   ]
  },
  {
   "cell_type": "code",
   "execution_count": null,
   "id": "55e022ad-e986-4281-acd4-675632df78c7",
   "metadata": {},
   "outputs": [],
   "source": [
    "plt.figure(figsize=(2,2))\n",
    "plt.plot(np_array,marker='o')"
   ]
  },
  {
   "cell_type": "code",
   "execution_count": null,
   "id": "fe693b88-fa1f-409a-8d74-8ae712939e0c",
   "metadata": {},
   "outputs": [],
   "source": [
    "# xarray wrapped around numpy\n",
    "xr_array = xr.DataArray(np_array,\n",
    "                        dims=('time',),\n",
    "                        coords={'time':np.arange(1,13,dtype=int)})\n",
    "xr_array"
   ]
  },
  {
   "cell_type": "code",
   "execution_count": null,
   "id": "dbd25b8c-2ba2-463f-9f1d-b3940348a9d1",
   "metadata": {},
   "outputs": [],
   "source": [
    "# xarray wrapped around dask\n",
    "xr_array_dask = xr_array.chunk({'time':3})\n",
    "xr_array_dask"
   ]
  },
  {
   "cell_type": "markdown",
   "id": "3bbb1a17-d3a9-4947-8262-15cc94c1bdf1",
   "metadata": {},
   "source": [
    "## What's dask do? (flip back to slides)"
   ]
  },
  {
   "cell_type": "code",
   "execution_count": null,
   "id": "cd355137-773a-4b1f-b5fc-4cbc06aab92e",
   "metadata": {},
   "outputs": [],
   "source": [
    "client.close()"
   ]
  },
  {
   "cell_type": "code",
   "execution_count": null,
   "id": "deedbe16-cf08-4f11-848a-8a9f7f99f514",
   "metadata": {},
   "outputs": [],
   "source": [
    "from dask.distributed import Client\n",
    "client = Client(threads_per_worker=1,memory_limit=0)\n",
    "client.amm.start()\n",
    "client"
   ]
  },
  {
   "cell_type": "code",
   "execution_count": null,
   "id": "5ce2ea08-81ea-4d37-8437-598a57846a8d",
   "metadata": {},
   "outputs": [],
   "source": [
    "xr_array.mean('time')"
   ]
  },
  {
   "cell_type": "code",
   "execution_count": null,
   "id": "11a9f500-27b9-4872-ace7-aa1a3824a14c",
   "metadata": {},
   "outputs": [],
   "source": [
    "xr_array_dask.mean('time')"
   ]
  },
  {
   "cell_type": "code",
   "execution_count": null,
   "id": "34c02104-8ee8-4a0d-bb33-2c63185655ca",
   "metadata": {},
   "outputs": [],
   "source": [
    "xr_array_dask.mean('time').data.visualize()"
   ]
  },
  {
   "cell_type": "code",
   "execution_count": null,
   "id": "12da266c-5e04-4189-ab3d-537a9ca87e53",
   "metadata": {},
   "outputs": [],
   "source": [
    "xr_array_dask.mean('time').load()"
   ]
  },
  {
   "cell_type": "markdown",
   "id": "11826eab-b6be-4a4c-bb2b-d7586a1f6977",
   "metadata": {},
   "source": [
    "## Using ACCESS-OM2-01 data"
   ]
  },
  {
   "cell_type": "code",
   "execution_count": null,
   "id": "b385fe17-9ef2-47eb-a269-6ced3f7c6f2b",
   "metadata": {},
   "outputs": [],
   "source": [
    "thetao = xr.open_mfdataset('/g/data/cj50/access-om2/raw-output/access-om2-01/01deg_jra55v140_iaf/output00*/ocean/ocean-3d-temp-1-monthly-mean*.nc',\n",
    "                          parallel=True)"
   ]
  },
  {
   "cell_type": "code",
   "execution_count": null,
   "id": "56bb14b4-66f8-4ce7-acf8-1592df09272f",
   "metadata": {},
   "outputs": [],
   "source": [
    "thetao.temp"
   ]
  },
  {
   "cell_type": "code",
   "execution_count": null,
   "id": "9e1ea6e7-e560-48fb-b23a-97e296900eb3",
   "metadata": {},
   "outputs": [],
   "source": [
    "thetao.temp.isel(st_ocean=0,yt_ocean=slice(600,1000),\n",
    "                ).mean('xt_ocean')"
   ]
  },
  {
   "cell_type": "markdown",
   "id": "156f8d4c-00cf-4048-ba52-20569159de3d",
   "metadata": {},
   "source": [
    "## (launch dashboard)"
   ]
  },
  {
   "cell_type": "code",
   "execution_count": null,
   "id": "fcf263c9-d1f3-41ba-b346-43cfb1307ded",
   "metadata": {},
   "outputs": [],
   "source": [
    "%time thetao.temp.isel(st_ocean=0,yt_ocean=slice(600,1000)).mean('xt_ocean').load()"
   ]
  },
  {
   "cell_type": "code",
   "execution_count": null,
   "id": "0c7a36c1-8be7-4a61-815b-23eed298aaf4",
   "metadata": {},
   "outputs": [],
   "source": [
    "%time thetao.temp.chunk({'xt_ocean':-1}).isel(st_ocean=0,yt_ocean=slice(600,1000)).mean('xt_ocean').load()"
   ]
  },
  {
   "cell_type": "markdown",
   "id": "c6371d22-d0a3-4d91-b874-1179ea927ee6",
   "metadata": {},
   "source": [
    "#### Getting that ^ to run but not crash was tricky, and I had to subset a lot. Part of this is the tiny chunks"
   ]
  },
  {
   "cell_type": "code",
   "execution_count": null,
   "id": "8c689ed5-342d-43ba-98a9-763debd7c835",
   "metadata": {},
   "outputs": [],
   "source": [
    "thetao = xr.open_mfdataset('/g/data/cj50/access-om2/raw-output/access-om2-01/01deg_jra55v140_iaf/output00*/ocean/ocean-3d-temp-1-monthly-mean*.nc',\n",
    "                           chunks={'xt_ocean':-1,'time':12},\n",
    "                           parallel=True)"
   ]
  },
  {
   "cell_type": "code",
   "execution_count": null,
   "id": "a78d1d20-7434-456b-b281-cc47eb07bbe6",
   "metadata": {},
   "outputs": [],
   "source": [
    "%time thetao.temp.isel(st_ocean=0,yt_ocean=slice(600,1000)).mean('xt_ocean').load()"
   ]
  },
  {
   "cell_type": "code",
   "execution_count": null,
   "id": "013844dc-540a-44dd-a61e-271ed2c834e3",
   "metadata": {},
   "outputs": [],
   "source": [
    "thetao.temp.isel(st_ocean=0).mean('yt_ocean').load()"
   ]
  },
  {
   "cell_type": "code",
   "execution_count": null,
   "id": "b07ef8e2-eb38-4723-addb-cb7cc7fa4259",
   "metadata": {
    "jp-MarkdownHeadingCollapsed": true
   },
   "outputs": [],
   "source": [
    "# likely to crash the kernel and take ages - proceed at your own risk\n",
    "thetao = xr.open_mfdataset('/g/data/cj50/access-om2/raw-output/access-om2-01/01deg_jra55v140_iaf/output00*/ocean/ocean-3d-temp-1-monthly-mean*.nc',\n",
    "                           chunks={'xt_ocean':-1,'st_ocean':-1,'yt_ocean':-1,'time':-1},\n",
    "                           parallel=True)"
   ]
  },
  {
   "cell_type": "code",
   "execution_count": null,
   "id": "f4d37f9c-d300-4b2f-bc5c-6cac72953493",
   "metadata": {},
   "outputs": [],
   "source": [
    "%time thetao.temp.isel(st_ocean=0,yt_ocean=slice(600,1000)).mean('xt_ocean').load()"
   ]
  },
  {
   "cell_type": "code",
   "execution_count": null,
   "id": "bf6dd544-2aef-4b6e-a6bf-26e9f91b2c81",
   "metadata": {},
   "outputs": [],
   "source": []
  },
  {
   "cell_type": "code",
   "execution_count": null,
   "id": "48253cfe-c9f6-482e-a466-0f85d672b0e0",
   "metadata": {},
   "outputs": [],
   "source": []
  }
 ],
 "metadata": {
  "kernelspec": {
   "display_name": "Python [conda env:analysis3-unstable]",
   "language": "python",
   "name": "conda-env-analysis3-unstable-py"
  },
  "language_info": {
   "codemirror_mode": {
    "name": "ipython",
    "version": 3
   },
   "file_extension": ".py",
   "mimetype": "text/x-python",
   "name": "python",
   "nbconvert_exporter": "python",
   "pygments_lexer": "ipython3",
   "version": "3.11.12"
  }
 },
 "nbformat": 4,
 "nbformat_minor": 5
}
